{
 "cells": [
  {
   "cell_type": "markdown",
   "metadata": {},
   "source": [
    "# **Udacity Data Analyst Nanodegree**\n",
    "\n",
    "## **Project 6: Identify Fraud from Enron Email**\n",
    "\n",
    "*by Homagni Bhattachajee*\n",
    "\n",
    "### **Project Overview**\n",
    "\n",
    "In 2000, Enron was one of the largest companies in the United States. By 2002, it had collapsed into bankruptcy due to widespread corporate fraud. In the resulting Federal investigation, there was a significant amount of typically confidential information entered into public record, including tens of thousands of emails and detailed financial data for top executives.\n",
    "\n",
    "In this project I will build a person of interest identifier based on financial and email data made public as a result of the Enron scandal. I use email and financial data for 146 executives at Enron to identify persons of interest in the fraud case. A person of interest (POI) is someone who was indicted for fraud, settled with the government, or testified in exchange for immunity. This report documents the machine learning techniques used in building a POI identifier.\n",
    "\n",
    "There are four major steps in my project:\n",
    "\n",
    "1. Enron dataset\n",
    "2. Feature processing\n",
    "3. Algorithm\n",
    "4. Validation\n",
    "\n",
    "### **Exploring the dataset**"
   ]
  },
  {
   "cell_type": "code",
   "execution_count": 1,
   "metadata": {},
   "outputs": [
    {
     "name": "stderr",
     "output_type": "stream",
     "text": [
      "C:\\Users\\Homagni Bhattacharje\\Miniconda3\\envs\\py2\\lib\\site-packages\\sklearn\\cross_validation.py:41: DeprecationWarning: This module was deprecated in version 0.18 in favor of the model_selection module into which all the refactored classes and functions are moved. Also note that the interface of the new CV iterators are different from that of this module. This module will be removed in 0.20.\n",
      "  \"This module will be removed in 0.20.\", DeprecationWarning)\n",
      "C:\\Users\\Homagni Bhattacharje\\Miniconda3\\envs\\py2\\lib\\site-packages\\sklearn\\grid_search.py:42: DeprecationWarning: This module was deprecated in version 0.18 in favor of the model_selection module into which all the refactored classes and functions are moved. This module will be removed in 0.20.\n",
      "  DeprecationWarning)\n"
     ]
    }
   ],
   "source": [
    "#Importing necessary modules\n",
    "\n",
    "import os\n",
    "import pickle\n",
    "import sys\n",
    "import matplotlib\n",
    "import matplotlib.pyplot as plt\n",
    "import numpy as np\n",
    "np.random.seed(42)# setting seed number\n",
    "\n",
    "from feature_format import featureFormat, targetFeatureSplit\n",
    "from pprint import pprint\n",
    "from tester import dump_classifier_and_data\n",
    "\n",
    "from sklearn.feature_selection import SelectKBest, f_classif\n",
    "from sklearn.grid_search import GridSearchCV\n",
    "from sklearn.pipeline import Pipeline\n",
    "\n",
    "\n",
    "from sklearn.cross_validation import train_test_split\n",
    "from feature_format import featureFormat, targetFeatureSplit\n",
    "from sklearn.model_selection import StratifiedShuffleSplit\n",
    "from time import time\n",
    "from sklearn.metrics import precision_score\n",
    "from sklearn.metrics import recall_score\n",
    "from sklearn.metrics import f1_score\n",
    "from sklearn.metrics import accuracy_score\n",
    "\n",
    "from sklearn.tree import DecisionTreeClassifier\n",
    "from sklearn.ensemble import RandomForestClassifier\n",
    "from sklearn.ensemble import AdaBoostClassifier\n",
    "from sklearn.linear_model import LogisticRegression\n",
    "from sklearn.neighbors.nearest_centroid import NearestCentroid\n",
    "from sklearn.naive_bayes import GaussianNB\n",
    "from sklearn import svm\n"
   ]
  },
  {
   "cell_type": "code",
   "execution_count": 2,
   "metadata": {
    "collapsed": true
   },
   "outputs": [],
   "source": [
    "#Loading data\n",
    "data_dict = pickle.load( open(\"../final_project/final_project_dataset.pkl\", \"r\") )"
   ]
  },
  {
   "cell_type": "code",
   "execution_count": 3,
   "metadata": {},
   "outputs": [
    {
     "name": "stdout",
     "output_type": "stream",
     "text": [
      "There are  146 excecutives in Enron Dataset\n"
     ]
    }
   ],
   "source": [
    "# number of people\n",
    "print \"There are \", len(data_dict), \"excecutives in Enron Dataset\""
   ]
  },
  {
   "cell_type": "code",
   "execution_count": 4,
   "metadata": {},
   "outputs": [
    {
     "name": "stdout",
     "output_type": "stream",
     "text": [
      "['METTS MARK', 'BAXTER JOHN C', 'ELLIOTT STEVEN', 'CORDES WILLIAM R', 'HANNON KEVIN P', 'MORDAUNT KRISTINA M', 'MEYER ROCKFORD G', 'MCMAHON JEFFREY', 'HORTON STANLEY C', 'PIPER GREGORY F', 'HUMPHREY GENE E', 'UMANOFF ADAM S', 'BLACHMAN JEREMY M', 'SUNDE MARTIN', 'GIBBS DANA R', 'LOWRY CHARLES P', 'COLWELL WESLEY', 'MULLER MARK S', 'JACKSON CHARLENE R', 'WESTFAHL RICHARD K', 'WALTERS GARETH W', 'WALLS JR ROBERT H', 'KITCHEN LOUISE', 'CHAN RONNIE', 'BELFER ROBERT', 'SHANKMAN JEFFREY A', 'WODRASKA JOHN', 'BERGSIEKER RICHARD P', 'URQUHART JOHN A', 'BIBI PHILIPPE A', 'RIEKER PAULA H', 'WHALEY DAVID A', 'BECK SALLY W', 'HAUG DAVID L', 'ECHOLS JOHN B', 'MENDELSOHN JOHN', 'HICKERSON GARY J', 'CLINE KENNETH W', 'LEWIS RICHARD', 'HAYES ROBERT E', 'MCCARTY DANNY J', 'KOPPER MICHAEL J', 'LEFF DANIEL P', 'LAVORATO JOHN J', 'BERBERIAN DAVID', 'DETMERING TIMOTHY J', 'WAKEHAM JOHN', 'POWERS WILLIAM', 'GOLD JOSEPH', 'BANNANTINE JAMES M', 'DUNCAN JOHN H', 'SHAPIRO RICHARD S', 'SHERRIFF JOHN R', 'SHELBY REX', 'LEMAISTRE CHARLES', 'DEFFNER JOSEPH M', 'KISHKILL JOSEPH G', 'WHALLEY LAWRENCE G', 'MCCONNELL MICHAEL S', 'PIRO JIM', 'DELAINEY DAVID W', 'SULLIVAN-SHAKLOVITZ COLLEEN', 'WROBEL BRUCE', 'LINDHOLM TOD A', 'MEYER JEROME J', 'LAY KENNETH L', 'BUTTS ROBERT H', 'OLSON CINDY K', 'MCDONALD REBECCA', 'CUMBERLAND MICHAEL S', 'GAHN ROBERT S', 'MCCLELLAN GEORGE', 'HERMANN ROBERT J', 'SCRIMSHAW MATTHEW', 'GATHMANN WILLIAM D', 'HAEDICKE MARK E', 'BOWEN JR RAYMOND M', 'GILLIS JOHN', 'FITZGERALD JAY L', 'MORAN MICHAEL P', 'REDMOND BRIAN L', 'BAZELIDES PHILIP J', 'BELDEN TIMOTHY N', 'DURAN WILLIAM D', 'THORN TERENCE H', 'FASTOW ANDREW S', 'FOY JOE', 'CALGER CHRISTOPHER F', 'RICE KENNETH D', 'KAMINSKI WINCENTY J', 'LOCKHART EUGENE E', 'COX DAVID', 'OVERDYKE JR JERE C', 'PEREIRA PAULO V. FERRAZ', 'STABLER FRANK', 'SKILLING JEFFREY K', 'BLAKE JR. NORMAN P', 'SHERRICK JEFFREY B', 'PRENTICE JAMES', 'GRAY RODNEY', 'PICKERING MARK R', 'THE TRAVEL AGENCY IN THE PARK', 'NOLES JAMES L', 'KEAN STEVEN J', 'TOTAL', 'FOWLER PEGGY', 'WASAFF GEORGE', 'WHITE JR THOMAS E', 'CHRISTODOULOU DIOMEDES', 'ALLEN PHILLIP K', 'SHARP VICTORIA T', 'JAEDICKE ROBERT', 'WINOKUR JR. HERBERT S', 'BROWN MICHAEL', 'BADUM JAMES P', 'HUGHES JAMES A', 'REYNOLDS LAWRENCE', 'DIMICHELE RICHARD G', 'BHATNAGAR SANJAY', 'CARTER REBECCA C', 'BUCHANAN HAROLD G', 'YEAP SOON', 'MURRAY JULIA H', 'GARLAND C KEVIN', 'DODSON KEITH', 'YEAGER F SCOTT', 'HIRKO JOSEPH', 'DIETRICH JANET R', 'DERRICK JR. JAMES V', 'FREVERT MARK A', 'PAI LOU L', 'BAY FRANKLIN R', 'HAYSLETT RODERICK J', 'FUGH JOHN L', 'FALLON JAMES B', 'KOENIG MARK E', 'SAVAGE FRANK', 'IZZO LAWRENCE L', 'TILNEY ELIZABETH A', 'MARTIN AMANDA K', 'BUY RICHARD B', 'GRAMM WENDY L', 'CAUSEY RICHARD A', 'TAYLOR MITCHELL S', 'DONAHUE JR JEFFREY M', 'GLISAN JR BEN F']\n"
     ]
    }
   ],
   "source": [
    "# name of all the excecutives\n",
    "print data_dict.keys()"
   ]
  },
  {
   "cell_type": "markdown",
   "metadata": {},
   "source": [
    "There are one name that was not a person name 'THE TRAVEL AGENCY IN THE PARK'. This was an outlier."
   ]
  },
  {
   "cell_type": "code",
   "execution_count": 5,
   "metadata": {},
   "outputs": [
    {
     "data": {
      "text/plain": [
       "{'bonus': 'NaN',\n",
       " 'deferral_payments': 'NaN',\n",
       " 'deferred_income': 'NaN',\n",
       " 'director_fees': 'NaN',\n",
       " 'email_address': 'NaN',\n",
       " 'exercised_stock_options': 'NaN',\n",
       " 'expenses': 'NaN',\n",
       " 'from_messages': 'NaN',\n",
       " 'from_poi_to_this_person': 'NaN',\n",
       " 'from_this_person_to_poi': 'NaN',\n",
       " 'loan_advances': 'NaN',\n",
       " 'long_term_incentive': 'NaN',\n",
       " 'other': 362096,\n",
       " 'poi': False,\n",
       " 'restricted_stock': 'NaN',\n",
       " 'restricted_stock_deferred': 'NaN',\n",
       " 'salary': 'NaN',\n",
       " 'shared_receipt_with_poi': 'NaN',\n",
       " 'to_messages': 'NaN',\n",
       " 'total_payments': 362096,\n",
       " 'total_stock_value': 'NaN'}"
      ]
     },
     "execution_count": 5,
     "metadata": {},
     "output_type": "execute_result"
    }
   ],
   "source": [
    "data_dict.pop('THE TRAVEL AGENCY IN THE PARK', 0)"
   ]
  },
  {
   "cell_type": "code",
   "execution_count": 6,
   "metadata": {},
   "outputs": [
    {
     "name": "stdout",
     "output_type": "stream",
     "text": [
      "There are  21 features in the Enron Dataset\n"
     ]
    }
   ],
   "source": [
    "# number of features\n",
    "print \"There are \", len(data_dict['SKILLING JEFFREY K'].keys()), \"features in the Enron Dataset\""
   ]
  },
  {
   "cell_type": "code",
   "execution_count": 7,
   "metadata": {},
   "outputs": [
    {
     "name": "stdout",
     "output_type": "stream",
     "text": [
      "List of features: \n",
      "['salary', 'to_messages', 'deferral_payments', 'total_payments', 'exercised_stock_options', 'bonus', 'restricted_stock', 'shared_receipt_with_poi', 'restricted_stock_deferred', 'total_stock_value', 'expenses', 'loan_advances', 'from_messages', 'other', 'from_this_person_to_poi', 'poi', 'director_fees', 'deferred_income', 'long_term_incentive', 'email_address', 'from_poi_to_this_person']\n"
     ]
    }
   ],
   "source": [
    "# list of features\n",
    "print \"List of features: \" + \"\\n\" + str(data_dict['SKILLING JEFFREY K'].keys())"
   ]
  },
  {
   "cell_type": "code",
   "execution_count": 8,
   "metadata": {},
   "outputs": [
    {
     "name": "stdout",
     "output_type": "stream",
     "text": [
      "There are 18 person of interest.\n",
      "['HANNON KEVIN P', 'COLWELL WESLEY', 'RIEKER PAULA H', 'KOPPER MICHAEL J', 'SHELBY REX', 'DELAINEY DAVID W', 'LAY KENNETH L', 'BOWEN JR RAYMOND M', 'BELDEN TIMOTHY N', 'FASTOW ANDREW S', 'CALGER CHRISTOPHER F', 'RICE KENNETH D', 'SKILLING JEFFREY K', 'YEAGER F SCOTT', 'HIRKO JOSEPH', 'KOENIG MARK E', 'CAUSEY RICHARD A', 'GLISAN JR BEN F']\n"
     ]
    }
   ],
   "source": [
    "# count people of interest\n",
    "count_poi = 0\n",
    "poi_name = []\n",
    "for entry in data_dict:\n",
    "    if data_dict[entry]['poi'] == 1:\n",
    "        count_poi += 1\n",
    "        poi_name.append(entry)\n",
    "print \"There are \" + str(count_poi) + \" person of interest.\"\n",
    "print poi_name"
   ]
  },
  {
   "cell_type": "markdown",
   "metadata": {},
   "source": [
    "Let's explore something more about those POIs."
   ]
  },
  {
   "cell_type": "code",
   "execution_count": 9,
   "metadata": {},
   "outputs": [
    {
     "name": "stdout",
     "output_type": "stream",
     "text": [
      "NaN data for long_term_incentives: 79\n"
     ]
    }
   ],
   "source": [
    "#How many data have “NaN” for their \"long-term-incentives\"\n",
    "count_total_incentives_NaN = 0\n",
    "for entry in data_dict:\n",
    "    if data_dict[entry]['long_term_incentive'] == 'NaN':\n",
    "        count_total_incentives_NaN += 1\n",
    "print 'NaN data for long_term_incentives:', count_total_incentives_NaN"
   ]
  },
  {
   "cell_type": "code",
   "execution_count": 10,
   "metadata": {},
   "outputs": [
    {
     "name": "stdout",
     "output_type": "stream",
     "text": [
      "NaN for salary: 50\n"
     ]
    }
   ],
   "source": [
    "#How many folks in this dataset have a 'NaN' salary? \n",
    "count_salary = 0\n",
    "for entry in data_dict:\n",
    "    if data_dict[entry]['salary'] == 'NaN':\n",
    "        count_salary +=1\n",
    "print 'NaN for salary:', count_salary"
   ]
  },
  {
   "cell_type": "code",
   "execution_count": 11,
   "metadata": {},
   "outputs": [
    {
     "name": "stdout",
     "output_type": "stream",
     "text": [
      "LOCKHART EUGENE E\n"
     ]
    }
   ],
   "source": [
    "# Any data that all 'NaN' in main features:\n",
    "for entry in data_dict:\n",
    "    if data_dict[entry]['director_fees'] == 'NaN' and data_dict[entry]['total_stock_value'] == 'NaN' and data_dict[entry]['total_payments'] == 'NaN':\n",
    "        print entry"
   ]
  },
  {
   "cell_type": "code",
   "execution_count": 12,
   "metadata": {},
   "outputs": [
    {
     "data": {
      "text/plain": [
       "{'bonus': 'NaN',\n",
       " 'deferral_payments': 'NaN',\n",
       " 'deferred_income': 'NaN',\n",
       " 'director_fees': 'NaN',\n",
       " 'email_address': 'NaN',\n",
       " 'exercised_stock_options': 'NaN',\n",
       " 'expenses': 'NaN',\n",
       " 'from_messages': 'NaN',\n",
       " 'from_poi_to_this_person': 'NaN',\n",
       " 'from_this_person_to_poi': 'NaN',\n",
       " 'loan_advances': 'NaN',\n",
       " 'long_term_incentive': 'NaN',\n",
       " 'other': 'NaN',\n",
       " 'poi': False,\n",
       " 'restricted_stock': 'NaN',\n",
       " 'restricted_stock_deferred': 'NaN',\n",
       " 'salary': 'NaN',\n",
       " 'shared_receipt_with_poi': 'NaN',\n",
       " 'to_messages': 'NaN',\n",
       " 'total_payments': 'NaN',\n",
       " 'total_stock_value': 'NaN'}"
      ]
     },
     "execution_count": 12,
     "metadata": {},
     "output_type": "execute_result"
    }
   ],
   "source": [
    "data_dict['LOCKHART EUGENE E']"
   ]
  },
  {
   "cell_type": "markdown",
   "metadata": {},
   "source": [
    "So this person LOCKHART EUGENE E had all the features in NaN and was not a POI. This person was an outlier.\n",
    "\n",
    "Let's explore some bivariative relationship between some quantitative features from the Enron dataset."
   ]
  },
  {
   "cell_type": "code",
   "execution_count": 13,
   "metadata": {},
   "outputs": [
    {
     "data": {
      "image/png": "[encoded data removed]",
      "text/plain": [
       "<matplotlib.figure.Figure at 0x9f1cc18>"
      ]
     },
     "metadata": {},
     "output_type": "display_data"
    }
   ],
   "source": [
    "# SALARY VS BONUS\n",
    "\n",
    "sys.path.append(\"../tools/\")\n",
    "### read in data dictionary, convert to numpy array\n",
    "features = [\"salary\", \"bonus\"]\n",
    "data = featureFormat(data_dict, features)\n",
    "\n",
    "### plot\n",
    "for point in data:\n",
    "    salary = point[0]\n",
    "    bonus = point[1]\n",
    "    matplotlib.pyplot.scatter( salary, bonus )\n",
    "matplotlib.pyplot.xlabel(\"salary\")\n",
    "matplotlib.pyplot.ylabel(\"bonus\")\n",
    "matplotlib.pyplot.show()"
   ]
  },
  {
   "cell_type": "markdown",
   "metadata": {
    "collapsed": true
   },
   "source": [
    "We can see that there was an outlier that was extremely higher than the rest of the data. Let's come back to the dataset and see what was the data point."
   ]
  },
  {
   "cell_type": "code",
   "execution_count": 14,
   "metadata": {},
   "outputs": [
    {
     "name": "stdout",
     "output_type": "stream",
     "text": [
      "Total people with salary: 95\n",
      "Maxium salary was 26704229\n"
     ]
    }
   ],
   "source": [
    "# remove NaN's and find max salary \n",
    "salary_list = []\n",
    "for entry in data_dict:\n",
    "    if type (data_dict[entry]['salary']) == int :\n",
    "        salary_list.append(data_dict[entry]['salary'])\n",
    "print \"Total people with salary: \" + str(len(salary_list))\n",
    "print \"Maxium salary was \" + str(max(salary_list))"
   ]
  },
  {
   "cell_type": "code",
   "execution_count": 15,
   "metadata": {},
   "outputs": [
    {
     "name": "stdout",
     "output_type": "stream",
     "text": [
      "Name of person with maximum salary TOTAL\n"
     ]
    }
   ],
   "source": [
    "# find person with max salary\n",
    "for entry in data_dict:\n",
    "    if data_dict[entry]['salary'] == 26704229: # Maximum Salary = 26704229\n",
    "        print \"Name of person with maximum salary \" + entry"
   ]
  },
  {
   "cell_type": "markdown",
   "metadata": {},
   "source": [
    "So, the outlier was the TOTAL salary and bonus. I removed it from the dataset"
   ]
  },
  {
   "cell_type": "code",
   "execution_count": 16,
   "metadata": {},
   "outputs": [
    {
     "data": {
      "text/plain": [
       "{'bonus': 97343619,\n",
       " 'deferral_payments': 32083396,\n",
       " 'deferred_income': -27992891,\n",
       " 'director_fees': 1398517,\n",
       " 'email_address': 'NaN',\n",
       " 'exercised_stock_options': 311764000,\n",
       " 'expenses': 5235198,\n",
       " 'from_messages': 'NaN',\n",
       " 'from_poi_to_this_person': 'NaN',\n",
       " 'from_this_person_to_poi': 'NaN',\n",
       " 'loan_advances': 83925000,\n",
       " 'long_term_incentive': 48521928,\n",
       " 'other': 42667589,\n",
       " 'poi': False,\n",
       " 'restricted_stock': 130322299,\n",
       " 'restricted_stock_deferred': -7576788,\n",
       " 'salary': 26704229,\n",
       " 'shared_receipt_with_poi': 'NaN',\n",
       " 'to_messages': 'NaN',\n",
       " 'total_payments': 309886585,\n",
       " 'total_stock_value': 434509511}"
      ]
     },
     "execution_count": 16,
     "metadata": {},
     "output_type": "execute_result"
    }
   ],
   "source": [
    "# remove outlier from the data\n",
    "data_dict.pop('TOTAL',0)"
   ]
  },
  {
   "cell_type": "code",
   "execution_count": 17,
   "metadata": {},
   "outputs": [
    {
     "name": "stdout",
     "output_type": "stream",
     "text": [
      "Average salary: 562194\n"
     ]
    }
   ],
   "source": [
    "# average salary\n",
    "print \"Average salary: \" + str(int(np.mean(salary_list)))"
   ]
  },
  {
   "cell_type": "code",
   "execution_count": 18,
   "metadata": {},
   "outputs": [
    {
     "data": {
      "image/png": "[encoded data removed]",
      "text/plain": [
       "<matplotlib.figure.Figure at 0x4abeef0>"
      ]
     },
     "metadata": {},
     "output_type": "display_data"
    }
   ],
   "source": [
    "# Replot SALARY VS BONUS after removing outlier\n",
    "\n",
    "data_dict.pop('TOTAL', 0)\n",
    "features = [\"salary\", \"bonus\"]\n",
    "data = featureFormat(data_dict, features)\n",
    "\n",
    "### plot\n",
    "for point in data:\n",
    "    salary = point[0]\n",
    "    bonus = point[1]\n",
    "    matplotlib.pyplot.scatter( salary, bonus )\n",
    "\n",
    "matplotlib.pyplot.xlabel(\"salary\")\n",
    "matplotlib.pyplot.ylabel(\"bonus\")\n",
    "matplotlib.pyplot.show()"
   ]
  },
  {
   "cell_type": "markdown",
   "metadata": {},
   "source": [
    "We would argue that there’s 4 more outliers to investigate; let's look at a couple of them. Two people made bonuses of at least 5 million dollars, and a salary of over 1 million dollars; in other words, they got richly rewarded. What are the names associated with those point? Are they POIs?"
   ]
  },
  {
   "cell_type": "code",
   "execution_count": 19,
   "metadata": {},
   "outputs": [
    {
     "name": "stdout",
     "output_type": "stream",
     "text": [
      "[('SKILLING JEFFREY K', 1111258),\n",
      " ('LAY KENNETH L', 1072321),\n",
      " ('FREVERT MARK A', 1060932),\n",
      " ('PICKERING MARK R', 655037)]\n"
     ]
    }
   ],
   "source": [
    "# catch outliers with high salary\n",
    "outliers_salary = []\n",
    "for key in data_dict:\n",
    "    val = data_dict[key]['salary']\n",
    "    if val == 'NaN':\n",
    "        continue\n",
    "    outliers_salary.append((key,int(val)))\n",
    "\n",
    "top_4 = sorted(outliers_salary,key=lambda x:x[1],reverse=True)[:4]\n",
    "\n",
    "pprint(top_4)"
   ]
  },
  {
   "cell_type": "code",
   "execution_count": 20,
   "metadata": {},
   "outputs": [
    {
     "name": "stdout",
     "output_type": "stream",
     "text": [
      "SKILLING JEFFREY K\n",
      "LAY KENNETH L\n"
     ]
    }
   ],
   "source": [
    "# are they POIs?\n",
    "for people in top_4:\n",
    "    if data_dict[people[0]]['poi'] == 1:\n",
    "        print people[0]"
   ]
  },
  {
   "cell_type": "markdown",
   "metadata": {},
   "source": [
    "So, the two of top 4 outlier salary were POIs.\n",
    "\n",
    "### 4. Features processing\n",
    "The data has been cleaned. Next step I added a new feature. From the intuition about the data, I guessed that the more message exchanged among POIs (fraction of from_this_person_to_poi and from_poi_to_this_person to total_message) the more chance of the person is POI."
   ]
  },
  {
   "cell_type": "code",
   "execution_count": 21,
   "metadata": {
    "collapsed": true
   },
   "outputs": [],
   "source": [
    "def get_total_list(key1, key2):\n",
    "    'combine 2 lists in one, assign NaN to 0'\n",
    "    new_list = []\n",
    "    for i in data_dict:\n",
    "        # assign NaN to 0\n",
    "        if data_dict[i][key1] == 'NaN' or data_dict[i][key2] == 'NaN':\n",
    "            new_list.append(0.)\n",
    "        elif data_dict[i][key1]>=0:\n",
    "            new_list.append(float(data_dict[i][key1]) + float(data_dict[i][key2]))\n",
    "    return new_list"
   ]
  },
  {
   "cell_type": "code",
   "execution_count": 22,
   "metadata": {
    "collapsed": true
   },
   "outputs": [],
   "source": [
    "# get the total poi related emails:\n",
    "total_poi_emails = get_total_list('from_this_person_to_poi', 'from_poi_to_this_person')"
   ]
  },
  {
   "cell_type": "code",
   "execution_count": 23,
   "metadata": {
    "collapsed": true
   },
   "outputs": [],
   "source": [
    "# get the total emails\n",
    "total_emails = get_total_list('to_messages', 'from_messages')"
   ]
  },
  {
   "cell_type": "code",
   "execution_count": 24,
   "metadata": {
    "collapsed": true
   },
   "outputs": [],
   "source": [
    "def fraction_list(list1, list2):\n",
    "    'divide one list by other'\n",
    "    fraction = []\n",
    "    for i in range(0,len(list1)):\n",
    "        if list2[i] == 0.0:\n",
    "            fraction.append(0.0)\n",
    "                #print list2[j]\n",
    "                #fraction.append(0.0)\n",
    "        else:\n",
    "            fraction.append(float(list1[i])/float(list2[i]))\n",
    "            #print fraction\n",
    "    return fraction"
   ]
  },
  {
   "cell_type": "code",
   "execution_count": 25,
   "metadata": {
    "collapsed": true
   },
   "outputs": [],
   "source": [
    "# get the fraction of poi emails\n",
    "fraction_poi_emails = fraction_list(total_poi_emails, total_emails)"
   ]
  },
  {
   "cell_type": "code",
   "execution_count": 26,
   "metadata": {},
   "outputs": [
    {
     "name": "stdout",
     "output_type": "stream",
     "text": [
      "SKILLING fraction_poi_emails:  0.031593038822\n"
     ]
    }
   ],
   "source": [
    "# add this new feature to my data\n",
    "count = 0\n",
    "for i in data_dict:\n",
    "    data_dict[i]['fraction_poi_emails'] = fraction_poi_emails[count]\n",
    "    count += 1\n",
    "\n",
    "# test\n",
    "print 'SKILLING fraction_poi_emails: ', data_dict['SKILLING JEFFREY K']['fraction_poi_emails']"
   ]
  },
  {
   "cell_type": "code",
   "execution_count": 27,
   "metadata": {},
   "outputs": [
    {
     "data": {
      "image/png": "[encoded data removed]",
      "text/plain": [
       "<matplotlib.figure.Figure at 0x4abe0f0>"
      ]
     },
     "metadata": {},
     "output_type": "display_data"
    }
   ],
   "source": [
    "# let's test if this feature has any correlation with POIs\n",
    "new_features_list = ['poi', 'fraction_poi_emails']\n",
    "data = featureFormat(data_dict, new_features_list)\n",
    "\n",
    "### plot\n",
    "for point in data:\n",
    "    poi = point[0]\n",
    "    fraction_poi_emails = point[1]\n",
    "    #matplotlib.pyplot.boxplot( data )\n",
    "    if point[0] == 1:\n",
    "        matplotlib.pyplot.scatter(poi, fraction_poi_emails, color = 'r')\n",
    "    else:\n",
    "        matplotlib.pyplot.scatter(poi, fraction_poi_emails, color = 'b')\n",
    "    #matplotlib.pyplot.boxplot(data)\n",
    "matplotlib.pyplot.xlabel(\"poi\")\n",
    "matplotlib.pyplot.ylabel(\"fraction_poi_emails\")\n",
    "matplotlib.pyplot.show()"
   ]
  },
  {
   "cell_type": "markdown",
   "metadata": {},
   "source": [
    "I can see the different of fraction of poi and non-poi emails. Let's use this new feature to see if it improves the classifier.\n",
    "\n",
    "#### Original features"
   ]
  },
  {
   "cell_type": "code",
   "execution_count": 28,
   "metadata": {},
   "outputs": [
    {
     "name": "stdout",
     "output_type": "stream",
     "text": [
      "Accuracy: 0.793103448276\n",
      "Precision:  0.142857142857\n",
      "Recall:  0.142857142857\n",
      "Decision Tree algorithm run time:  0.017 s\n",
      "Feature Ranking: \n",
      "1 feature salary (0.453596502238)\n",
      "2 feature from_poi_to_this_person (0.210759412118)\n",
      "3 feature from_this_person_to_poi (0.0870188370188)\n",
      "4 feature to_messages (0.078316953317)\n",
      "5 feature deferral_payments (0.078316953317)\n",
      "6 feature total_payments (0.0696150696151)\n",
      "7 feature exercised_stock_options (0.0223762723763)\n",
      "8 feature bonus (0.0)\n",
      "9 feature restricted_stock (0.0)\n",
      "10 feature shared_receipt_with_poi (0.0)\n",
      "11 feature restricted_stock_deferred (0.0)\n",
      "12 feature total_stock_value (0.0)\n",
      "13 feature expenses (0.0)\n",
      "14 feature loan_advances (0.0)\n",
      "15 feature from_messages (0.0)\n",
      "16 feature other (0.0)\n",
      "17 feature director_fees (0.0)\n",
      "18 feature deferred_income (0.0)\n",
      "19 feature long_term_incentive (0.0)\n"
     ]
    }
   ],
   "source": [
    "# features_list_original\n",
    "features_list = ['poi',\n",
    "                 'salary',\n",
    "                 'from_poi_to_this_person',\n",
    "                 'from_this_person_to_poi',\n",
    "                 'to_messages',\n",
    "                 'deferral_payments',\n",
    "                 'total_payments',\n",
    "                 'exercised_stock_options',\n",
    "                 'bonus',\n",
    "                 'restricted_stock',\n",
    "                 'shared_receipt_with_poi',\n",
    "                 'restricted_stock_deferred',\n",
    "                 'total_stock_value',\n",
    "                 'expenses',\n",
    "                 'loan_advances',\n",
    "                 'from_messages',\n",
    "                 'other',\n",
    "                 'director_fees',\n",
    "                 'deferred_income',\n",
    "                 'long_term_incentive']\n",
    "\n",
    "data = featureFormat(data_dict, features_list)\n",
    "labels, features = targetFeatureSplit(data)\n",
    "\n",
    "# split data into training and testing\n",
    "features_train, features_test, labels_train, labels_test = train_test_split(features, labels, test_size = 0.4, random_state = 42)\n",
    "\n",
    "# choose decision tree\n",
    "t0 = time()\n",
    "clf = DecisionTreeClassifier()\n",
    "clf = clf.fit(features_train, labels_train)\n",
    "pred = clf.predict(features_test)\n",
    "\n",
    "#accuracy parameters\n",
    "acc = accuracy_score(labels_test, pred)\n",
    "print 'Accuracy: ' + str(acc)\n",
    "print 'Precision: ', precision_score(labels_test, pred)\n",
    "print 'Recall: ', recall_score(labels_test, pred)\n",
    "print 'Decision Tree algorithm run time: ', round(time()-t0, 3), 's'\n",
    "\n",
    "# list of importance features\n",
    "importances = clf.feature_importances_\n",
    "indices = np.argsort(importances)[::-1]\n",
    "print 'Feature Ranking: '\n",
    "for i in range(19):\n",
    "    print \"{} feature {} ({})\".format(i+1,features_list[i+1],importances[indices[i]])"
   ]
  },
  {
   "cell_type": "markdown",
   "metadata": {},
   "source": [
    "#### Add new features"
   ]
  },
  {
   "cell_type": "code",
   "execution_count": 29,
   "metadata": {},
   "outputs": [
    {
     "name": "stdout",
     "output_type": "stream",
     "text": [
      "Accuracy: 0.758620689655\n",
      "Precision:  0.181818181818\n",
      "Recall:  0.285714285714\n",
      "Decision Tree algorithm run time:  0.02 s\n",
      "Feature Ranking: \n",
      "1 feature salary (0.453596502238)\n",
      "2 feature from_poi_to_this_person (0.210759412118)\n",
      "3 feature fraction_poi_emails (0.156633906634)\n",
      "4 feature from_this_person_to_poi (0.078316953317)\n",
      "5 feature to_messages (0.0696150696151)\n",
      "6 feature deferral_payments (0.0310781560782)\n",
      "7 feature total_payments (0.0)\n",
      "8 feature exercised_stock_options (0.0)\n",
      "9 feature bonus (0.0)\n",
      "10 feature restricted_stock (0.0)\n",
      "11 feature shared_receipt_with_poi (0.0)\n",
      "12 feature restricted_stock_deferred (0.0)\n",
      "13 feature total_stock_value (0.0)\n",
      "14 feature expenses (0.0)\n",
      "15 feature loan_advances (0.0)\n",
      "16 feature from_messages (0.0)\n",
      "17 feature other (0.0)\n",
      "18 feature director_fees (0.0)\n",
      "19 feature deferred_income (0.0)\n",
      "20 feature long_term_incentive (0.0)\n"
     ]
    }
   ],
   "source": [
    "# features_list with new feature created (fraction_poi_emails)\n",
    "features_list = ['poi',\n",
    "                 'salary',\n",
    "                 'from_poi_to_this_person',\n",
    "                 'fraction_poi_emails',\n",
    "                 'from_this_person_to_poi',\n",
    "                 'to_messages',\n",
    "                 'deferral_payments',\n",
    "                 'total_payments',\n",
    "                 'exercised_stock_options',\n",
    "                 'bonus',\n",
    "                 'restricted_stock',\n",
    "                 'shared_receipt_with_poi',\n",
    "                 'restricted_stock_deferred',\n",
    "                 'total_stock_value',\n",
    "                 'expenses',\n",
    "                 'loan_advances',\n",
    "                 'from_messages',\n",
    "                 'other',\n",
    "                 'director_fees',\n",
    "                 'deferred_income',\n",
    "                 'long_term_incentive']\n",
    "\n",
    "data = featureFormat(data_dict, features_list)\n",
    "labels, features = targetFeatureSplit(data)\n",
    "\n",
    "# split data into training and testing\n",
    "features_train, features_test, labels_train, labels_test = train_test_split(\n",
    "    features, labels, test_size = 0.4, random_state = 42)\n",
    "\n",
    "# choose decision tree\n",
    "t0 = time()\n",
    "clf = DecisionTreeClassifier()\n",
    "clf = clf.fit(features_train, labels_train)\n",
    "pred = clf.predict(features_test)\n",
    "\n",
    "acc = accuracy_score(labels_test, pred)\n",
    "print 'Accuracy: ' + str(acc)\n",
    "print 'Precision: ', precision_score(labels_test, pred)\n",
    "print 'Recall: ', recall_score(labels_test, pred)\n",
    "print 'Decision Tree algorithm run time: ', round(time()-t0, 3), 's'\n",
    "\n",
    "\n",
    "# list of importance features\n",
    "importances = clf.feature_importances_\n",
    "indices = np.argsort(importances)[::-1]\n",
    "print 'Feature Ranking: '\n",
    "for i in range(20):\n",
    "    print \"{} feature {} ({})\".format(i+1,features_list[i+1],importances[indices[i]])"
   ]
  },
  {
   "cell_type": "markdown",
   "metadata": {},
   "source": [
    "The new feature improved recall and precision. So, I decided to use the new feature henceforth.\n",
    "\n",
    "#### Intelligently Select Features\n",
    "\n",
    "The next step is selecting the features that convey the most information to our model. Leaving some features out has some advantages, like reducing the noise in the classification, and saving processing time, since there are less features to compute. Now have the following features to choose from :\n",
    "\n",
    "['poi','salary','from_poi_to_this_person','fraction_poi_emails','from_this_person_to_poi','to_messages','deferral_payments',\n",
    "  'total_payments','exercised_stock_options','bonus','restricted_stock','shared_receipt_with_poi',   'restricted_stock_deferred','total_stock_value','expenses','loan_advances', 'from_messages','other','director_fees',\n",
    "  'deferred_income', 'long_term_incentive']\n",
    "  \n",
    "Now, according to the p-values obtained, the features 'salary' to 'deferral_payments' have some positive p-value. Hence, these features have significance and re included for final analysis.\n",
    "\n",
    "Apart from these features, we have the following stock-related features:\n",
    "    'exercised_stock_options', 'restricted_stock', 'restricted_stock_deferred' & 'total_stock_value'.\n",
    "Only the first two features have discretionary provisions which may have been traded as favour by the poi and hence they were manually selected for further analysis.\n",
    "\n",
    "Also 'bonus' is a feature that may be given to those employees who have higher productivity-which may or may not be acheived by dubious means, which means that we have to keep this feature for more analysis.\n",
    "\n",
    "The rest of the features are generic and do not have much discretionary value attached to it and hence we will not consider them any further.\n",
    "\n",
    "So the final feature_list obtained is as follows:\n",
    "                 \n",
    "features_list = ['poi',\n",
    "                 'salary',\n",
    "                 'from_poi_to_this_person',\n",
    "                 'fraction_poi_emails',\n",
    "                 'from_this_person_to_poi',\n",
    "                 'to_messages',\n",
    "                 'deferral_payments',\n",
    "                 'exercised_stock_options',\n",
    "                 'bonus',\n",
    "                 'restricted_stock']"
   ]
  },
  {
   "cell_type": "code",
   "execution_count": 30,
   "metadata": {},
   "outputs": [
    {
     "name": "stdout",
     "output_type": "stream",
     "text": [
      "Accuracy: 0.777777777778\n",
      "Precision:  0.333333333333\n",
      "Recall:  0.714285714286\n",
      "Decision Tree algorithm run time:  0.016 s\n"
     ]
    }
   ],
   "source": [
    "# features_list with new feature created (fraction_poi_emails)\n",
    "features_list = ['poi',\n",
    "                 'salary',\n",
    "                 'from_poi_to_this_person',\n",
    "                 'fraction_poi_emails',\n",
    "                 'from_this_person_to_poi',\n",
    "                 'to_messages',\n",
    "                 'deferral_payments',\n",
    "                 'exercised_stock_options',\n",
    "                 'bonus',\n",
    "                 'restricted_stock']\n",
    "\n",
    "data = featureFormat(data_dict, features_list)\n",
    "labels, features = targetFeatureSplit(data)\n",
    "\n",
    "# split data into training and testing\n",
    "features_train, features_test, labels_train, labels_test = train_test_split(\n",
    "    features, labels, test_size = 0.4, random_state = 42)\n",
    "\n",
    "# choose decision tree\n",
    "t0 = time()\n",
    "clf = DecisionTreeClassifier()\n",
    "clf = clf.fit(features_train, labels_train)\n",
    "pred = clf.predict(features_test)\n",
    "\n",
    "acc = accuracy_score(labels_test, pred)\n",
    "print 'Accuracy: ' + str(acc)\n",
    "print 'Precision: ', precision_score(labels_test, pred)\n",
    "print 'Recall: ', recall_score(labels_test, pred)\n",
    "print 'Decision Tree algorithm run time: ', round(time()-t0, 3), 's'"
   ]
  },
  {
   "cell_type": "markdown",
   "metadata": {},
   "source": [
    "As we can see, we now have precision and recall values greater than 0.3 which implies that the features chosen are appropriate an may be deemed to be final feature list.\n",
    "\n",
    "Since Decision Tree algorithm was used which does not need scaling, feature scaling was not used.\n",
    "\n",
    "\n",
    "### Algorithm Selection and Tuning\n",
    "I have tried Decision tree. With the small samples like that Naive Bayes may not work very well. So, let's try Random Forest, Adaboost and NearestK.\n",
    "\n",
    "#### Random Forest"
   ]
  },
  {
   "cell_type": "code",
   "execution_count": 31,
   "metadata": {},
   "outputs": [
    {
     "name": "stdout",
     "output_type": "stream",
     "text": [
      "Accuracy: 0.851851851852\n",
      "Precision:  0.0\n",
      "Recall:  0.0\n",
      "F1 score: 0.0\n",
      "Random algorithm run time:  0.137 s\n"
     ]
    }
   ],
   "source": [
    "features_list = ['poi',\n",
    "                 'salary',\n",
    "                 'from_poi_to_this_person',\n",
    "                 'fraction_poi_emails',\n",
    "                 'from_this_person_to_poi',\n",
    "                 'to_messages',\n",
    "                 'deferral_payments',\n",
    "                 'exercised_stock_options',\n",
    "                 'bonus',\n",
    "                 'restricted_stock']\n",
    "\n",
    "\n",
    "data = featureFormat(data_dict, features_list)\n",
    "labels, features = targetFeatureSplit(data)\n",
    "\n",
    "# split data into training and testing\n",
    "features_train, features_test, labels_train, labels_test = train_test_split(\n",
    "    features, labels, test_size = 0.4, random_state = 42)\n",
    "\n",
    "t0 = time()\n",
    "clf = RandomForestClassifier()\n",
    "clf = clf.fit(features_train, labels_train)\n",
    "pred = clf.predict(features_test)\n",
    "\n",
    "acc = accuracy_score(labels_test, pred)\n",
    "print 'Accuracy: ' + str(acc)\n",
    "print 'Precision: ', precision_score(labels_test, pred)\n",
    "print 'Recall: ', recall_score(labels_test, pred)\n",
    "print 'F1 score:', f1_score(labels_test, pred)\n",
    "print 'Random algorithm run time: ', round(time()-t0, 3), 's'"
   ]
  },
  {
   "cell_type": "markdown",
   "metadata": {},
   "source": [
    "#### Adaboost"
   ]
  },
  {
   "cell_type": "code",
   "execution_count": 32,
   "metadata": {},
   "outputs": [
    {
     "name": "stdout",
     "output_type": "stream",
     "text": [
      "Accuracy: 0.796296296296\n",
      "Precision:  0.25\n",
      "Recall:  0.285714285714\n",
      "F1 score: 0.266666666667\n",
      "Adaboost algorithm run time:  0.472 s\n"
     ]
    }
   ],
   "source": [
    "features_list = ['poi',\n",
    "                 'salary',\n",
    "                 'from_poi_to_this_person',\n",
    "                 'fraction_poi_emails',\n",
    "                 'from_this_person_to_poi',\n",
    "                 'to_messages',\n",
    "                 'deferral_payments',\n",
    "                 'exercised_stock_options',\n",
    "                 'bonus',\n",
    "                 'restricted_stock']\n",
    "\n",
    "\n",
    "data = featureFormat(data_dict, features_list)\n",
    "labels, features = targetFeatureSplit(data)\n",
    "\n",
    "# split data into training and testing\n",
    "features_train, features_test, labels_train, labels_test = train_test_split(\n",
    "    features, labels, test_size = 0.4, random_state = 42)\n",
    "\n",
    "t0 = time()\n",
    "clf = AdaBoostClassifier()\n",
    "clf = clf.fit(features_train, labels_train)\n",
    "pred = clf.predict(features_test)\n",
    "\n",
    "acc = accuracy_score(labels_test, pred)\n",
    "print 'Accuracy: ' + str(acc)\n",
    "print 'Precision: ', precision_score(labels_test, pred)\n",
    "print 'Recall: ', recall_score(labels_test, pred)\n",
    "print 'F1 score:', f1_score(labels_test, pred)\n",
    "print 'Adaboost algorithm run time: ', round(time()-t0, 3), 's'"
   ]
  },
  {
   "cell_type": "markdown",
   "metadata": {},
   "source": [
    "#### Logistic Regression"
   ]
  },
  {
   "cell_type": "code",
   "execution_count": 33,
   "metadata": {},
   "outputs": [
    {
     "name": "stdout",
     "output_type": "stream",
     "text": [
      "Accuracy: 0.740740740741\n",
      "Precision:  0.181818181818\n",
      "Recall:  0.285714285714\n",
      "F1 score: 0.222222222222\n",
      "Logistic regression algorithm run time:  0.02 s\n"
     ]
    }
   ],
   "source": [
    "features_list = ['poi',\n",
    "                 'salary',\n",
    "                 'from_poi_to_this_person',\n",
    "                 'fraction_poi_emails',\n",
    "                 'from_this_person_to_poi',\n",
    "                 'to_messages',\n",
    "                 'deferral_payments',\n",
    "                 'exercised_stock_options',\n",
    "                 'bonus',\n",
    "                 'restricted_stock']\n",
    "\n",
    "\n",
    "data = featureFormat(data_dict, features_list)\n",
    "labels, features = targetFeatureSplit(data)\n",
    "\n",
    "# split data into training and testing\n",
    "features_train, features_test, labels_train, labels_test = train_test_split(\n",
    "    features, labels, test_size = 0.4, random_state = 42)\n",
    "\n",
    "t0 = time()\n",
    "clf = LogisticRegression()\n",
    "clf = clf.fit(features_train, labels_train)\n",
    "pred = clf.predict(features_test)\n",
    "\n",
    "acc = accuracy_score(labels_test, pred)\n",
    "print 'Accuracy: ' + str(acc)\n",
    "print 'Precision: ', precision_score(labels_test, pred)\n",
    "print 'Recall: ', recall_score(labels_test, pred)\n",
    "print 'F1 score:', f1_score(labels_test, pred)\n",
    "print 'Logistic regression algorithm run time: ', round(time()-t0, 3), 's'"
   ]
  },
  {
   "cell_type": "markdown",
   "metadata": {},
   "source": [
    "#### Nearest K"
   ]
  },
  {
   "cell_type": "code",
   "execution_count": 34,
   "metadata": {},
   "outputs": [
    {
     "name": "stdout",
     "output_type": "stream",
     "text": [
      "Accuracy: 0.87037037037\n",
      "Precision:  0.5\n",
      "Recall:  0.428571428571\n",
      "F1 score: 0.461538461538\n",
      "Nearest K algorithm run time:  0.021 s\n"
     ]
    }
   ],
   "source": [
    "features_list = ['poi',\n",
    "                 'salary',\n",
    "                 'from_poi_to_this_person',\n",
    "                 'fraction_poi_emails',\n",
    "                 'from_this_person_to_poi',\n",
    "                 'to_messages',\n",
    "                 'deferral_payments',\n",
    "                 'exercised_stock_options',\n",
    "                 'bonus',\n",
    "                 'restricted_stock']\n",
    "\n",
    "data = featureFormat(data_dict, features_list)\n",
    "labels, features = targetFeatureSplit(data)\n",
    "\n",
    "# split data into training and testing\n",
    "features_train, features_test, labels_train, labels_test = train_test_split(\n",
    "    features, labels, test_size = 0.4, random_state = 42)\n",
    "\n",
    "t0 = time()\n",
    "clf = NearestCentroid()\n",
    "clf = clf.fit(features_train, labels_train)\n",
    "pred = clf.predict(features_test)\n",
    "\n",
    "acc = accuracy_score(labels_test, pred)\n",
    "print 'Accuracy: ' + str(acc)\n",
    "print 'Precision: ', precision_score(labels_test, pred)\n",
    "print 'Recall: ', recall_score(labels_test, pred)\n",
    "print 'F1 score:', f1_score(labels_test, pred)\n",
    "print 'Nearest K algorithm run time: ', round(time()-t0, 3), 's'"
   ]
  },
  {
   "cell_type": "markdown",
   "metadata": {},
   "source": [
    "#### SVC"
   ]
  },
  {
   "cell_type": "code",
   "execution_count": 35,
   "metadata": {},
   "outputs": [
    {
     "name": "stdout",
     "output_type": "stream",
     "text": [
      "Accuracy: 0.648148148148\n",
      "Precision:  0.2\n",
      "Recall:  0.571428571429\n",
      "F1 score: 0.296296296296\n",
      "SVC algorithm run time:  0.026 s\n"
     ]
    }
   ],
   "source": [
    "features_list = ['poi',\n",
    "                 'salary',\n",
    "                 'from_poi_to_this_person',\n",
    "                 'fraction_poi_emails',\n",
    "                 'from_this_person_to_poi',\n",
    "                 'to_messages',\n",
    "                 'deferral_payments',\n",
    "                 'exercised_stock_options',\n",
    "                 'bonus',\n",
    "                 'restricted_stock']\n",
    "\n",
    "\n",
    "data = featureFormat(data_dict, features_list)\n",
    "labels, features = targetFeatureSplit(data)\n",
    "\n",
    "# split data into training and testing\n",
    "features_train, features_test, labels_train, labels_test = train_test_split(\n",
    "    features, labels, test_size = 0.4, random_state = 42)\n",
    "\n",
    "t0 = time()\n",
    "clf = svm.LinearSVC()\n",
    "clf = clf.fit(features_train, labels_train)\n",
    "pred = clf.predict(features_test)\n",
    "\n",
    "acc = accuracy_score(labels_test, pred)\n",
    "print 'Accuracy: ' + str(acc)\n",
    "print 'Precision: ', precision_score(labels_test, pred)\n",
    "print 'Recall: ', recall_score(labels_test, pred)\n",
    "print 'F1 score:', f1_score(labels_test, pred)\n",
    "print 'SVC algorithm run time: ', round(time()-t0, 3), 's'"
   ]
  },
  {
   "cell_type": "markdown",
   "metadata": {},
   "source": [
    "After trying other algorithms, I decided to go with Decision Tree as it has the highest performance regarding overall accuracy, precision, recall and F1 score.\n",
    "\n",
    "### Tuning by GridSearchCV\n",
    "\n",
    "The ultimate goal of machine learning is to make a machine system that can automatically build models from data without requiring tedious and time consuming human involvement. \n",
    "\n",
    "One of the difficulties is that learning algorithms (eg. decision trees, random forests, clustering techniques, etc.) require you to set parameters before you use the models (or at least to set constraints on those parameters).\n",
    "\n",
    "How we set those parameters can depend on a whole host of factors. That said, the goal, is usually to set those parameters to optimal values that enable us to complete a learning task in the best way possible. \n",
    "\n",
    "Thus, tuning an algorithm or machine learning technique, can be simply thought of as process which one goes through in which they optimize the parameters that impact the model in order to enable the algorithm to perform the best (once, of course you have defined what \"best\" actual is)."
   ]
  },
  {
   "cell_type": "markdown",
   "metadata": {},
   "source": [
    "#### Decision Tree"
   ]
  },
  {
   "cell_type": "code",
   "execution_count": 39,
   "metadata": {
    "scrolled": true
   },
   "outputs": [
    {
     "name": "stdout",
     "output_type": "stream",
     "text": [
      "Fitting 10 folds for each of 20 candidates, totalling 200 fits\n"
     ]
    },
    {
     "name": "stderr",
     "output_type": "stream",
     "text": [
      "[Parallel(n_jobs=-1)]: Done  42 tasks      | elapsed:    4.9s\n",
      "[Parallel(n_jobs=-1)]: Done 192 tasks      | elapsed:    9.9s\n"
     ]
    },
    {
     "name": "stdout",
     "output_type": "stream",
     "text": [
      "*******Final results*********\n",
      "0.674352019289\n",
      "{'classifDT__max_features': 'log2', 'classifDT__max_depth': 8}\n",
      "Pipeline(memory=None,\n",
      "     steps=[('classifDT', DecisionTreeClassifier(class_weight=None, criterion='gini', max_depth=8,\n",
      "            max_features='log2', max_leaf_nodes=None,\n",
      "            min_impurity_decrease=0.0, min_impurity_split=None,\n",
      "            min_samples_leaf=1, min_samples_split=2,\n",
      "            min_weight_fraction_leaf=0.0, presort=False, random_state=None,\n",
      "            splitter='best'))])\n",
      "Accuracy: 0.648148148148\n",
      "Precision:  0.272727272727\n",
      "Recall:  0.428571428571\n",
      "Decision Tree algorithm run time:  202.854 s\n"
     ]
    },
    {
     "name": "stderr",
     "output_type": "stream",
     "text": [
      "[Parallel(n_jobs=-1)]: Done 200 out of 200 | elapsed:   10.1s finished\n"
     ]
    }
   ],
   "source": [
    "# Using pipeline\n",
    "pipe = Pipeline(steps=[('classifDT', DecisionTreeClassifier())])\n",
    "\n",
    "#param grid\n",
    "params = [{\n",
    "    'classifDT__max_features':[\"sqrt\",\"log2\"],\n",
    "    'classifDT__max_depth':np.arange(0,10)\n",
    "}]\n",
    "#Stratified_Shuffle_Split for validation\n",
    "\n",
    "sss = StratifiedShuffleSplit(n_splits=10, test_size=0.1, train_size= None, random_state= None)\n",
    "\n",
    "# run grid search\n",
    "clf = GridSearchCV(estimator=pipe, \n",
    "                     param_grid=params, \n",
    "                     scoring='roc_auc',\n",
    "                     n_jobs = -1, \n",
    "                     cv= 10,\n",
    "                     verbose = 1,\n",
    "                     error_score = 0)\n",
    "\n",
    "clf.fit(features_train, labels_train)\n",
    "\n",
    "# examine the best model\n",
    "print '*******Final results*********'\n",
    "print clf.best_score_\n",
    "print clf.best_params_\n",
    "print clf.best_estimator_\n",
    "\n",
    "#Predicted values of new best fit classifier\n",
    "pred = clf.predict(features_test)\n",
    "\n",
    "\n",
    "print 'Accuracy: ' + str(acc)\n",
    "print 'Precision: ', precision_score(labels_test, pred)\n",
    "print 'Recall: ', recall_score(labels_test, pred)\n",
    "print 'Decision Tree algorithm run time: ', round(time()-t0, 3), 's'"
   ]
  },
  {
   "cell_type": "markdown",
   "metadata": {},
   "source": [
    "The parameters ,'max_depth' and 'max_features' of DecisionTreeClassifier were tuned using GridsearchCV.\n",
    "max_depth refers to the maximum depth of the tree. \n",
    "max_features refers to the number of features to consider when looking for the best split.\n",
    "\n",
    "The parameters were tuned by running a grid with the best possible combinations for the parameters chosen and allowing the classifier to find the best fit and thus the best combination of the parametrs."
   ]
  },
  {
   "cell_type": "markdown",
   "metadata": {},
   "source": [
    "### Analysis Validation and Performance\n",
    "\n",
    "The Classifier performance, here Decision Tree classifier waqs validated by fitting the best estimator parameter set with test data which is really a subset of the training data held back from the machine learning algorithms until the very end. After we have selected and tuned the machine learning algorithms on your training dataset we can evaluate the learned models on the validation dataset to get a final objective idea of how the models might perform on unseen data, which makes validation extremely important.\n",
    "\n",
    "This validation was proceeded with the following steps uing the cross validation vodule of sklearn.\n",
    "First I used accuracy to evaluate my algorithm. It was a mistake because in this case we have a class imbalance problem - the number of POIs is small compared to the total number of examples in the dataset. \n",
    "So I had to use precision and recall for these activities instead. I was able to reach average value of precision and recall was 0.27 and 0.42 respectively.\n",
    "\n",
    "Now, precision is the fraction of relevant instances among the retrieved instances, while recall is the fraction of relevant instances that have been retrieved over the total amount of relevant instances. \n",
    "\n",
    "In simple terms, high precision means that an algorithm returned substantially more relevant results than irrelevant ones, while high recall means that an algorithm returned most of the relevant results.\n",
    "\n",
    "Wrt to this project, 0.27 precision means that the POI identified was correct 27% times while 0.42 recall value means the 42% of the POI returned are relevant."
   ]
  },
  {
   "cell_type": "markdown",
   "metadata": {},
   "source": [
    "#### Saving Data\n",
    "\n",
    "So finally,I would save the classifier, dataset and feature list as three pickle files (my_dataset.pkl, my_classifier.pkl, my_feature_list.pkl) respectively."
   ]
  },
  {
   "cell_type": "code",
   "execution_count": 40,
   "metadata": {
    "collapsed": true
   },
   "outputs": [],
   "source": [
    "### Store to my_dataset for easy export below.\n",
    "my_dataset = data_dict\n",
    "\n",
    "dump_classifier_and_data(clf.best_estimator_, my_dataset, features_list)"
   ]
  },
  {
   "cell_type": "markdown",
   "metadata": {},
   "source": [
    "#### Resources\n",
    "\n",
    "1. [Sklearn documentation](http://scikit-learn.org/stable/documentation.html)\n",
    "2. [StackOverflow](https://stackoverflow.com/)\n",
    "3. [Github](https://github.com/)\n"
   ]
  },
  {
   "cell_type": "code",
   "execution_count": null,
   "metadata": {
    "collapsed": true
   },
   "outputs": [],
   "source": []
  }
 ],
 "metadata": {
  "kernelspec": {
   "display_name": "Python 2",
   "language": "python",
   "name": "python2"
  },
  "language_info": {
   "codemirror_mode": {
    "name": "ipython",
    "version": 2
   },
   "file_extension": ".py",
   "mimetype": "text/x-python",
   "name": "python",
   "nbconvert_exporter": "python",
   "pygments_lexer": "ipython2",
   "version": "2.7.13"
  }
 },
 "nbformat": 4,
 "nbformat_minor": 2
}
